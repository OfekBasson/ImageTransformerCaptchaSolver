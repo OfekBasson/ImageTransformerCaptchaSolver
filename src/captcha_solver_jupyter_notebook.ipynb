{
 "cells": [
  {
   "cell_type": "markdown",
   "metadata": {},
   "source": [
    "## Imports & Website Connection Handler Creation"
   ]
  },
  {
   "cell_type": "code",
   "execution_count": 1,
   "metadata": {},
   "outputs": [],
   "source": [
    "from vision_transformer import VisionTransformer\n",
    "from website_connection_handler import WebsiteConnectionHandler\n",
    "from custom_dataset import CustomDataset\n",
    "import torch\n",
    "from torch.utils.data import DataLoader\n",
    "from torchvision import transforms,utils\n",
    "import torch.nn as nn\n",
    "from helper_functions import imageShow, graphShow\n",
    "from PIL import Image\n",
    "import glob\n",
    "import os"
   ]
  },
  {
   "cell_type": "code",
   "execution_count": null,
   "metadata": {},
   "outputs": [],
   "source": [
    "wch = WebsiteConnectionHandler()"
   ]
  },
  {
   "cell_type": "markdown",
   "metadata": {},
   "source": [
    "## Database Creation"
   ]
  },
  {
   "cell_type": "code",
   "execution_count": 3,
   "metadata": {},
   "outputs": [],
   "source": [
    "wch.createDatabase()"
   ]
  },
  {
   "cell_type": "markdown",
   "metadata": {},
   "source": [
    "## Data Loading"
   ]
  },
  {
   "cell_type": "code",
   "execution_count": 4,
   "metadata": {},
   "outputs": [],
   "source": [
    "transform = transforms.Compose([\n",
    "    transforms.Resize((32, 32)),\n",
    "    transforms.ToTensor(),\n",
    "    transforms.Normalize((0.5, 0.5, 0.5, 0.5), (0.5, 0.5, 0.5, 0.5))\n",
    "])\n",
    "batch_size = 32\n",
    "\n",
    "dataset = CustomDataset(root_dir='/Users/wpqbswn/Desktop/Ofek/8200-learning/NadlanCaptchaNumbersClassification/Data', transform=transform)\n",
    "\n",
    "trainDataset, valDataset, testDataset = dataset.split_dataset(trainSize=0.8, shuffle=True)\n",
    "\n",
    "trainLoader = DataLoader(trainDataset, batch_size=batch_size, shuffle=True)\n",
    "valLoader = DataLoader(valDataset, batch_size=batch_size, shuffle=True)\n",
    "testLoader = DataLoader(testDataset, batch_size=batch_size, shuffle=True)\n",
    "\n",
    "classes = ['0', '1', '2', '3', '4', '5', '6', '7', '8', '9']"
   ]
  },
  {
   "cell_type": "markdown",
   "metadata": {},
   "source": [
    "## Data Visualization"
   ]
  },
  {
   "cell_type": "code",
   "execution_count": 5,
   "metadata": {},
   "outputs": [
    {
     "name": "stdout",
     "output_type": "stream",
     "text": [
      "               7                7                4                8\n"
     ]
    },
    {
     "data": {
      "image/png": "[encoded data removed]",
      "text/plain": [
       "<Figure size 640x480 with 1 Axes>"
      ]
     },
     "metadata": {},
     "output_type": "display_data"
    }
   ],
   "source": [
    "dataiter = iter(trainLoader)\n",
    "images, labels = next(dataiter)\n",
    "imageShow(utils.make_grid(images[:4]))\n",
    "print(' '.join('%16s' % classes[int(labels[j])] for j in range(4)))"
   ]
  },
  {
   "cell_type": "markdown",
   "metadata": {},
   "source": [
    "## Model Training"
   ]
  },
  {
   "cell_type": "code",
   "execution_count": 6,
   "metadata": {},
   "outputs": [],
   "source": [
    "model = VisionTransformer(image_size=32, patch_size=8, num_classes=10, num_layers=2, num_heads=2, hidden_dim=128, \n",
    "                 mlp_dim=512, dropout=0.0, attention_dropout=0.0)\n",
    "criterion = nn.CrossEntropyLoss()\n",
    "optimizer = torch.optim.Adam(model.parameters())"
   ]
  },
  {
   "cell_type": "code",
   "execution_count": 7,
   "metadata": {},
   "outputs": [],
   "source": [
    "def train_model(model, criterion, optimizer, num_epochs=5):\n",
    "  for epoch in range(num_epochs):\n",
    "      print('Epoch {}/{}'.format(epoch+1, num_epochs))\n",
    "      print('-' * 10)\n",
    "\n",
    "      for phase in ['train', 'val']:\n",
    "          if phase == 'train':\n",
    "              model.train()\n",
    "              current_loader = trainLoader\n",
    "              dataset_size = len(trainDataset)\n",
    "          else:\n",
    "              model.eval()\n",
    "              current_loader = valLoader\n",
    "              dataset_size = len(valDataset)\n",
    "          \n",
    "          running_loss = 0.0\n",
    "          running_corrects = 0\n",
    "\n",
    "          for _, (images, true_labels) in enumerate(current_loader):\n",
    "            optimizer.zero_grad()\n",
    "            MLP_scores = model(images)\n",
    "            tensorTrueLabels = torch.tensor(tuple(int(el) for el in true_labels))\n",
    "            loss = criterion(MLP_scores, torch.tensor(tensorTrueLabels))\n",
    "            if phase == 'train':\n",
    "              loss.backward()\n",
    "              optimizer.step()\n",
    "            predicted_labels = torch.argmax(MLP_scores, dim=1)\n",
    "            running_loss += loss.item()\n",
    "            running_corrects += torch.sum(torch.eq(predicted_labels, tensorTrueLabels), dim=0).item()\n",
    "          \n",
    "          epoch_loss = running_loss / dataset_size\n",
    "          epoch_acc = running_corrects / dataset_size\n",
    "\n",
    "          model.data_tracking_for_visualization[phase]['loss'].append(epoch_loss)\n",
    "          model.data_tracking_for_visualization[phase]['acc'].append(epoch_acc)\n",
    "            \n",
    "          print('{} Loss: {:.4f}  |  Acc: {:.4f}'.format(phase, epoch_loss, epoch_acc))\n"
   ]
  },
  {
   "cell_type": "code",
   "execution_count": 8,
   "metadata": {},
   "outputs": [
    {
     "name": "stdout",
     "output_type": "stream",
     "text": [
      "Epoch 1/60\n",
      "----------\n"
     ]
    },
    {
     "name": "stderr",
     "output_type": "stream",
     "text": [
      "/var/folders/2k/198b0h4941b0vjpw9dns0rbw0000gn/T/ipykernel_89599/2082935292.py:23: UserWarning: To copy construct from a tensor, it is recommended to use sourceTensor.clone().detach() or sourceTensor.clone().detach().requires_grad_(True), rather than torch.tensor(sourceTensor).\n",
      "  loss = criterion(MLP_scores, torch.tensor(tensorTrueLabels))\n"
     ]
    },
    {
     "name": "stdout",
     "output_type": "stream",
     "text": [
      "train Loss: 0.0709  |  Acc: 0.1450\n",
      "val Loss: 0.0881  |  Acc: 0.2900\n",
      "Epoch 2/60\n",
      "----------\n",
      "train Loss: 0.0500  |  Acc: 0.4150\n",
      "val Loss: 0.0542  |  Acc: 0.4900\n",
      "Epoch 3/60\n",
      "----------\n",
      "train Loss: 0.0372  |  Acc: 0.5887\n",
      "val Loss: 0.0561  |  Acc: 0.6100\n",
      "Epoch 4/60\n",
      "----------\n",
      "train Loss: 0.0278  |  Acc: 0.7137\n",
      "val Loss: 0.0299  |  Acc: 0.7800\n",
      "Epoch 5/60\n",
      "----------\n",
      "train Loss: 0.0178  |  Acc: 0.8100\n",
      "val Loss: 0.0328  |  Acc: 0.7600\n",
      "Epoch 6/60\n",
      "----------\n",
      "train Loss: 0.0148  |  Acc: 0.8550\n",
      "val Loss: 0.0443  |  Acc: 0.7900\n",
      "Epoch 7/60\n",
      "----------\n",
      "train Loss: 0.0105  |  Acc: 0.8962\n",
      "val Loss: 0.0223  |  Acc: 0.7900\n",
      "Epoch 8/60\n",
      "----------\n",
      "train Loss: 0.0075  |  Acc: 0.9263\n",
      "val Loss: 0.0251  |  Acc: 0.8200\n",
      "Epoch 9/60\n",
      "----------\n",
      "train Loss: 0.0056  |  Acc: 0.9525\n",
      "val Loss: 0.0185  |  Acc: 0.8700\n",
      "Epoch 10/60\n",
      "----------\n",
      "train Loss: 0.0063  |  Acc: 0.9350\n",
      "val Loss: 0.0202  |  Acc: 0.7600\n",
      "Epoch 11/60\n",
      "----------\n",
      "train Loss: 0.0058  |  Acc: 0.9450\n",
      "val Loss: 0.0259  |  Acc: 0.8400\n",
      "Epoch 12/60\n",
      "----------\n",
      "train Loss: 0.0050  |  Acc: 0.9625\n",
      "val Loss: 0.0229  |  Acc: 0.8500\n",
      "Epoch 13/60\n",
      "----------\n",
      "train Loss: 0.0060  |  Acc: 0.9350\n",
      "val Loss: 0.0172  |  Acc: 0.8400\n",
      "Epoch 14/60\n",
      "----------\n",
      "train Loss: 0.0052  |  Acc: 0.9437\n",
      "val Loss: 0.0150  |  Acc: 0.8800\n",
      "Epoch 15/60\n",
      "----------\n",
      "train Loss: 0.0021  |  Acc: 0.9900\n",
      "val Loss: 0.0138  |  Acc: 0.8900\n",
      "Epoch 16/60\n",
      "----------\n",
      "train Loss: 0.0009  |  Acc: 0.9975\n",
      "val Loss: 0.0099  |  Acc: 0.8900\n",
      "Epoch 17/60\n",
      "----------\n",
      "train Loss: 0.0004  |  Acc: 1.0000\n",
      "val Loss: 0.0088  |  Acc: 0.9100\n",
      "Epoch 18/60\n",
      "----------\n",
      "train Loss: 0.0002  |  Acc: 1.0000\n",
      "val Loss: 0.0085  |  Acc: 0.9100\n",
      "Epoch 19/60\n",
      "----------\n",
      "train Loss: 0.0002  |  Acc: 1.0000\n",
      "val Loss: 0.0067  |  Acc: 0.9200\n",
      "Epoch 20/60\n",
      "----------\n",
      "train Loss: 0.0001  |  Acc: 1.0000\n",
      "val Loss: 0.0069  |  Acc: 0.9200\n",
      "Epoch 21/60\n",
      "----------\n",
      "train Loss: 0.0001  |  Acc: 1.0000\n",
      "val Loss: 0.0120  |  Acc: 0.9200\n",
      "Epoch 22/60\n",
      "----------\n",
      "train Loss: 0.0001  |  Acc: 1.0000\n",
      "val Loss: 0.0064  |  Acc: 0.9200\n",
      "Epoch 23/60\n",
      "----------\n",
      "train Loss: 0.0001  |  Acc: 1.0000\n",
      "val Loss: 0.0069  |  Acc: 0.9200\n",
      "Epoch 24/60\n",
      "----------\n",
      "train Loss: 0.0001  |  Acc: 1.0000\n",
      "val Loss: 0.0064  |  Acc: 0.9300\n",
      "Epoch 25/60\n",
      "----------\n",
      "train Loss: 0.0001  |  Acc: 1.0000\n",
      "val Loss: 0.0063  |  Acc: 0.9300\n",
      "Epoch 26/60\n",
      "----------\n",
      "train Loss: 0.0001  |  Acc: 1.0000\n",
      "val Loss: 0.0063  |  Acc: 0.9300\n",
      "Epoch 27/60\n",
      "----------\n",
      "train Loss: 0.0001  |  Acc: 1.0000\n",
      "val Loss: 0.0071  |  Acc: 0.9300\n",
      "Epoch 28/60\n",
      "----------\n",
      "train Loss: 0.0001  |  Acc: 1.0000\n",
      "val Loss: 0.0062  |  Acc: 0.9300\n",
      "Epoch 29/60\n",
      "----------\n",
      "train Loss: 0.0001  |  Acc: 1.0000\n",
      "val Loss: 0.0061  |  Acc: 0.9300\n",
      "Epoch 30/60\n",
      "----------\n",
      "train Loss: 0.0001  |  Acc: 1.0000\n",
      "val Loss: 0.0063  |  Acc: 0.9300\n",
      "Epoch 31/60\n",
      "----------\n",
      "train Loss: 0.0001  |  Acc: 1.0000\n",
      "val Loss: 0.0094  |  Acc: 0.9300\n",
      "Epoch 32/60\n",
      "----------\n",
      "train Loss: 0.0000  |  Acc: 1.0000\n",
      "val Loss: 0.0073  |  Acc: 0.9300\n",
      "Epoch 33/60\n",
      "----------\n",
      "train Loss: 0.0000  |  Acc: 1.0000\n",
      "val Loss: 0.0068  |  Acc: 0.9300\n",
      "Epoch 34/60\n",
      "----------\n",
      "train Loss: 0.0000  |  Acc: 1.0000\n",
      "val Loss: 0.0071  |  Acc: 0.9400\n",
      "Epoch 35/60\n",
      "----------\n",
      "train Loss: 0.0000  |  Acc: 1.0000\n",
      "val Loss: 0.0079  |  Acc: 0.9400\n",
      "Epoch 36/60\n",
      "----------\n",
      "train Loss: 0.0000  |  Acc: 1.0000\n",
      "val Loss: 0.0089  |  Acc: 0.9400\n",
      "Epoch 37/60\n",
      "----------\n",
      "train Loss: 0.0000  |  Acc: 1.0000\n",
      "val Loss: 0.0066  |  Acc: 0.9400\n",
      "Epoch 38/60\n",
      "----------\n",
      "train Loss: 0.0000  |  Acc: 1.0000\n",
      "val Loss: 0.0059  |  Acc: 0.9400\n",
      "Epoch 39/60\n",
      "----------\n",
      "train Loss: 0.0000  |  Acc: 1.0000\n",
      "val Loss: 0.0069  |  Acc: 0.9400\n",
      "Epoch 40/60\n",
      "----------\n",
      "train Loss: 0.0000  |  Acc: 1.0000\n",
      "val Loss: 0.0062  |  Acc: 0.9400\n",
      "Epoch 41/60\n",
      "----------\n",
      "train Loss: 0.0000  |  Acc: 1.0000\n",
      "val Loss: 0.0065  |  Acc: 0.9400\n",
      "Epoch 42/60\n",
      "----------\n",
      "train Loss: 0.0000  |  Acc: 1.0000\n",
      "val Loss: 0.0059  |  Acc: 0.9400\n",
      "Epoch 43/60\n",
      "----------\n",
      "train Loss: 0.0000  |  Acc: 1.0000\n",
      "val Loss: 0.0074  |  Acc: 0.9400\n",
      "Epoch 44/60\n",
      "----------\n",
      "train Loss: 0.0000  |  Acc: 1.0000\n",
      "val Loss: 0.0059  |  Acc: 0.9400\n",
      "Epoch 45/60\n",
      "----------\n",
      "train Loss: 0.0000  |  Acc: 1.0000\n",
      "val Loss: 0.0059  |  Acc: 0.9400\n",
      "Epoch 46/60\n",
      "----------\n",
      "train Loss: 0.0000  |  Acc: 1.0000\n",
      "val Loss: 0.0085  |  Acc: 0.9400\n",
      "Epoch 47/60\n",
      "----------\n",
      "train Loss: 0.0000  |  Acc: 1.0000\n",
      "val Loss: 0.0076  |  Acc: 0.9400\n",
      "Epoch 48/60\n",
      "----------\n",
      "train Loss: 0.0000  |  Acc: 1.0000\n",
      "val Loss: 0.0098  |  Acc: 0.9400\n",
      "Epoch 49/60\n",
      "----------\n",
      "train Loss: 0.0000  |  Acc: 1.0000\n",
      "val Loss: 0.0061  |  Acc: 0.9400\n",
      "Epoch 50/60\n",
      "----------\n",
      "train Loss: 0.0000  |  Acc: 1.0000\n",
      "val Loss: 0.0059  |  Acc: 0.9400\n",
      "Epoch 51/60\n",
      "----------\n",
      "train Loss: 0.0000  |  Acc: 1.0000\n",
      "val Loss: 0.0060  |  Acc: 0.9400\n",
      "Epoch 52/60\n",
      "----------\n",
      "train Loss: 0.0000  |  Acc: 1.0000\n",
      "val Loss: 0.0059  |  Acc: 0.9400\n",
      "Epoch 53/60\n",
      "----------\n",
      "train Loss: 0.0000  |  Acc: 1.0000\n",
      "val Loss: 0.0059  |  Acc: 0.9400\n",
      "Epoch 54/60\n",
      "----------\n",
      "train Loss: 0.0000  |  Acc: 1.0000\n",
      "val Loss: 0.0196  |  Acc: 0.9400\n",
      "Epoch 55/60\n",
      "----------\n",
      "train Loss: 0.0000  |  Acc: 1.0000\n",
      "val Loss: 0.0059  |  Acc: 0.9400\n",
      "Epoch 56/60\n",
      "----------\n",
      "train Loss: 0.0000  |  Acc: 1.0000\n",
      "val Loss: 0.0120  |  Acc: 0.9400\n",
      "Epoch 57/60\n",
      "----------\n",
      "train Loss: 0.0000  |  Acc: 1.0000\n",
      "val Loss: 0.0060  |  Acc: 0.9400\n",
      "Epoch 58/60\n",
      "----------\n",
      "train Loss: 0.0000  |  Acc: 1.0000\n",
      "val Loss: 0.0062  |  Acc: 0.9400\n",
      "Epoch 59/60\n",
      "----------\n",
      "train Loss: 0.0000  |  Acc: 1.0000\n",
      "val Loss: 0.0066  |  Acc: 0.9400\n",
      "Epoch 60/60\n",
      "----------\n",
      "train Loss: 0.0000  |  Acc: 1.0000\n",
      "val Loss: 0.0059  |  Acc: 0.9400\n"
     ]
    }
   ],
   "source": [
    "train_model(model, criterion, optimizer, num_epochs=60)"
   ]
  },
  {
   "cell_type": "code",
   "execution_count": 9,
   "metadata": {},
   "outputs": [
    {
     "data": {
      "image/png": "[encoded data removed]",
      "text/plain": [
       "<Figure size 640x480 with 2 Axes>"
      ]
     },
     "metadata": {},
     "output_type": "display_data"
    }
   ],
   "source": [
    "graphShow(model)"
   ]
  },
  {
   "cell_type": "markdown",
   "metadata": {},
   "source": [
    "## Model Evaluation"
   ]
  },
  {
   "cell_type": "code",
   "execution_count": 19,
   "metadata": {},
   "outputs": [
    {
     "name": "stdout",
     "output_type": "stream",
     "text": [
      "Train accuracy: 0.9000\n",
      "True Labels:\n",
      "         7          2          0          7\n",
      "Predicted Labels:\n",
      "         7          2          0          7\n"
     ]
    },
    {
     "data": {
      "image/png": "[encoded data removed]",
      "text/plain": [
       "<Figure size 640x480 with 1 Axes>"
      ]
     },
     "metadata": {},
     "output_type": "display_data"
    }
   ],
   "source": [
    "model.eval()\n",
    "dataset_size = len(testDataset)\n",
    "\n",
    "running_corrects = 0.0\n",
    "\n",
    "for images, true_labels in testLoader:\n",
    "  optimizer.zero_grad()\n",
    "  MLP_scores = model(images)\n",
    "  predicted_labels = torch.argmax(MLP_scores, dim=1)\n",
    "  tensorTrueLabels = torch.tensor(tuple(int(el) for el in true_labels))\n",
    "  running_corrects += torch.sum(torch.eq(predicted_labels, tensorTrueLabels), dim=0).item()\n",
    "\n",
    "accuracy = running_corrects / dataset_size\n",
    "\n",
    "imageShow(utils.make_grid(images[:4]))\n",
    "\n",
    "print(f'Train accuracy: {accuracy:.4f}')\n",
    "\n",
    "\n",
    "print('True Labels:')\n",
    "print(' '.join('%10s' % classes[tensorTrueLabels[j]]  for j in range(4)))\n",
    "print('Predicted Labels:')\n",
    "print(' '.join('%10s' % classes[predicted_labels[j]]  for j in range(4)))"
   ]
  },
  {
   "cell_type": "markdown",
   "metadata": {},
   "source": [
    "## Captcha Hacking "
   ]
  },
  {
   "cell_type": "code",
   "execution_count": 26,
   "metadata": {},
   "outputs": [],
   "source": [
    "wch.SaveImageForCaptchaHack()\n",
    "finalNumberArray = [0,0,0,0]\n",
    "for fileName in glob.iglob('/Users/wpqbswn/Desktop/Ofek/8200-learning/NadlanCaptchaNumbersClassification/single_image/*'):\n",
    "    imagePath = fileName\n",
    "    with Image.open(imagePath) as image:\n",
    "        image = transform(image)\n",
    "        image = torch.unsqueeze(image[:3,:,:], dim=0)\n",
    "        MLP_scores = model(image)\n",
    "        predicted_label = torch.argmax(MLP_scores, dim=1).item()\n",
    "        digitLocation = fileName[90]\n",
    "        finalNumberArray[int(digitLocation) - 1] = str(predicted_label)\n",
    "    os.remove(imagePath)\n",
    "finalNumber = ''.join(finalNumberArray)\n",
    "wch.enterNumberToCaptcha(finalNumber)"
   ]
  }
 ],
 "metadata": {
  "kernelspec": {
   "display_name": "Python 3",
   "language": "python",
   "name": "python3"
  },
  "language_info": {
   "codemirror_mode": {
    "name": "ipython",
    "version": 3
   },
   "file_extension": ".py",
   "mimetype": "text/x-python",
   "name": "python",
   "nbconvert_exporter": "python",
   "pygments_lexer": "ipython3",
   "version": "3.10.4"
  }
 },
 "nbformat": 4,
 "nbformat_minor": 2
}
